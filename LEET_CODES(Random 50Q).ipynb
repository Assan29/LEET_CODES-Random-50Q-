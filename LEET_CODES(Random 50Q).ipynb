{
 "cells": [
  {
   "cell_type": "markdown",
   "id": "797aa753",
   "metadata": {},
   "source": [
    "# lc_2620"
   ]
  },
  {
   "cell_type": "code",
   "execution_count": 1,
   "id": "473f4ff2",
   "metadata": {},
   "outputs": [],
   "source": [
    "def lc_2620(x,*y):\n",
    "    \n",
    "    '''\n",
    "    Given an integer n, return a counter function. This counter function initially returns n and then \n",
    "    returns 1 more than the previous value every subsequent time it is called (n, n + 1, n + 2, etc).\n",
    "    \n",
    "    EAMPLE:\n",
    "    Input: \n",
    "    n = 10 \n",
    "    [\"call\",\"call\",\"call\"]\n",
    "    Output: [10,11,12]\n",
    "    Explanation: \n",
    "    counter() = 10 // The first time counter() is called, it returns n.\n",
    "    counter() = 11 // Returns 1 more than the previous time.\n",
    "    counter() = 12 // Returns 1 more than the previous time.\n",
    "    '''\n",
    "    \n",
    "    return [z+x for z in range(len(*[y]))]"
   ]
  },
  {
   "cell_type": "code",
   "execution_count": 2,
   "id": "db5bfe12",
   "metadata": {},
   "outputs": [
    {
     "data": {
      "text/plain": [
       "[10, 11, 12, 13, 14, 15]"
      ]
     },
     "execution_count": 2,
     "metadata": {},
     "output_type": "execute_result"
    }
   ],
   "source": [
    "lc_2620(10,*['call','call','call','call','call','call'])"
   ]
  },
  {
   "cell_type": "markdown",
   "id": "a965fa17",
   "metadata": {},
   "source": [
    "# lc_2469"
   ]
  },
  {
   "cell_type": "code",
   "execution_count": 3,
   "id": "e5f707cb",
   "metadata": {},
   "outputs": [],
   "source": [
    "def lc_2469(Celsius):\n",
    "    \n",
    "    '''\n",
    "    You are given a non-negative floating point number rounded to two decimal places celsius, \n",
    "    that denotes the temperature in Celsius.\n",
    "    You should convert Celsius into Kelvin and Fahrenheit and return it as an array ans = [kelvin, fahrenheit]\n",
    "    Return the array ans. Answers within 10-5 of the actual answer will be accepted.\n",
    "    given\n",
    "    Kelvin = Celsius + 273.15\n",
    "    Fahrenheit = Celsius * 1.80 + 32.00\n",
    "    \n",
    "    EXAMPLE:\n",
    "    Input: celsius = 36.50\n",
    "    Output: [309.65000,97.70000]\n",
    "    Explanation: Temperature at 36.50 Celsius converted in Kelvin is 309.65 and converted in Fahrenheit is 97.70.\n",
    "    '''\n",
    "    \n",
    "    Kelvin = Celsius + 273.15\n",
    "    Fahrenheit = Celsius * 1.80 + 32.00\n",
    "    return f'kelvin temp is {Kelvin} and Fahrenheit is {Fahrenheit}'"
   ]
  },
  {
   "cell_type": "code",
   "execution_count": 4,
   "id": "3e15f6b1",
   "metadata": {},
   "outputs": [
    {
     "data": {
      "text/plain": [
       "'kelvin temp is 309.65 and Fahrenheit is 97.7'"
      ]
     },
     "execution_count": 4,
     "metadata": {},
     "output_type": "execute_result"
    }
   ],
   "source": [
    "lc_2469(36.50)"
   ]
  },
  {
   "cell_type": "markdown",
   "id": "0093a9b8",
   "metadata": {},
   "source": [
    "# lc_2635"
   ]
  },
  {
   "cell_type": "code",
   "execution_count": 28,
   "id": "c439cd79",
   "metadata": {},
   "outputs": [],
   "source": [
    "def lc_2635(y):\n",
    "    \n",
    "    '''\n",
    "    Given an integer array arr and a mapping function fn, return a new array with a transformation applied to each element.\n",
    "    The returned array should be created such that returnedArray[i] = fn(arr[i], i).\n",
    "    Please solve it without the built-in Array.map method.\n",
    "    \n",
    "    EXAMPLE:\n",
    "    Input: arr = [1,2,3], fn = function plusone(n) { return n + 1; }\n",
    "    Output: [2,3,4]\n",
    "    Explanation:\n",
    "    const newArray = map(arr, plusone); // [2,3,4]\n",
    "    The function increases each value in the array by one.\n",
    "    '''\n",
    "    x = [i+1 for i in y]\n",
    "    print(x)"
   ]
  },
  {
   "cell_type": "code",
   "execution_count": 32,
   "id": "afa9ae19",
   "metadata": {},
   "outputs": [
    {
     "name": "stdout",
     "output_type": "stream",
     "text": [
      "[2, 3, 4]\n"
     ]
    }
   ],
   "source": [
    "lc_2635([1,2,3])"
   ]
  },
  {
   "cell_type": "code",
   "execution_count": 5,
   "id": "c0803ce7",
   "metadata": {},
   "outputs": [
    {
     "data": {
      "text/plain": [
       "[2, 3, 4]"
      ]
     },
     "execution_count": 5,
     "metadata": {},
     "output_type": "execute_result"
    }
   ],
   "source": [
    "list(map(lambda x : x+1,[1,2,3]))"
   ]
  },
  {
   "cell_type": "markdown",
   "id": "5f870b95",
   "metadata": {},
   "source": [
    "# lc_1290"
   ]
  },
  {
   "cell_type": "code",
   "execution_count": 7,
   "id": "2a7b86a7",
   "metadata": {},
   "outputs": [],
   "source": [
    "def lc_1290(head):                        #---->int([x]) -> integer\n",
    "                                          #---->int(x, base=10) -> integer\n",
    "    '''\n",
    "    Given head which is a reference node to a singly-linked list. The value of each node in the linked list is either 0 or 1.\n",
    "    The linked list holds the binary representation of a number.\n",
    "    Return the decimal value of the number in the linked list.\n",
    "    The most significant bit is at the head of the linked list.\n",
    "\n",
    "    EXAMPLE:\n",
    "    Input: head = [1,0,1]\n",
    "    Output: 5\n",
    "    Explanation: (101) in base 2 = (5) in base 10\n",
    "    '''\n",
    "    \n",
    "    x = ''.join([str(a) for a in head])\n",
    "    y = int(x,2)\n",
    "    return y"
   ]
  },
  {
   "cell_type": "code",
   "execution_count": 8,
   "id": "4498b83c",
   "metadata": {},
   "outputs": [
    {
     "data": {
      "text/plain": [
       "5"
      ]
     },
     "execution_count": 8,
     "metadata": {},
     "output_type": "execute_result"
    }
   ],
   "source": [
    "lc_1290([101])"
   ]
  },
  {
   "cell_type": "code",
   "execution_count": 9,
   "id": "c42fe27b",
   "metadata": {},
   "outputs": [
    {
     "name": "stdout",
     "output_type": "stream",
     "text": [
      "5\n"
     ]
    }
   ],
   "source": [
    "y = int('101',2)\n",
    "print(y)"
   ]
  },
  {
   "cell_type": "markdown",
   "id": "75def792",
   "metadata": {},
   "source": [
    "# lc_1365"
   ]
  },
  {
   "cell_type": "code",
   "execution_count": 3,
   "id": "ec2adca3",
   "metadata": {},
   "outputs": [],
   "source": [
    "def lc_1365(nmb):\n",
    "    \n",
    "    '''\n",
    "    Given the array nums, for each nums[i] find out how many numbers in the array are smaller than it. \n",
    "    That is, for each nums[i] you have to count the number of valid j's such that j != i and nums[j] < nums[i].\n",
    "    Return the answer in an array.\n",
    "    \n",
    "    EXAMPLE:\n",
    "    Input: nums = [8,1,2,2,3]\n",
    "    Output: [4,0,1,1,3]\n",
    "    Explanation:\n",
    "    For nums[0]=8 there exist four smaller numbers than it (1, 2, 2 and 3). \n",
    "    For nums[1]=1 does not exist any smaller number than it.\n",
    "    For nums[2]=2 there exist one smaller number than it (1). \n",
    "    For nums[3]=2 there exist one smaller number than it (1). \n",
    "    For nums[4]=3 there exist three smaller numbers than it (1, 2 and 2).\n",
    "    '''\n",
    "    \n",
    "    x = []\n",
    "    for i in nmb:\n",
    "        y = 0\n",
    "        for j in nmb:\n",
    "            if j<i:\n",
    "                y += 1\n",
    "        x.append(y)\n",
    "    return x"
   ]
  },
  {
   "cell_type": "code",
   "execution_count": 4,
   "id": "54a02e99",
   "metadata": {},
   "outputs": [
    {
     "data": {
      "text/plain": [
       "[4, 0, 1, 1, 3]"
      ]
     },
     "execution_count": 4,
     "metadata": {},
     "output_type": "execute_result"
    }
   ],
   "source": [
    "lc_1365([8,1,2,2,3])"
   ]
  },
  {
   "cell_type": "markdown",
   "id": "d748e959",
   "metadata": {},
   "source": [
    "# lc_771"
   ]
  },
  {
   "cell_type": "code",
   "execution_count": 45,
   "id": "a02f17d9",
   "metadata": {},
   "outputs": [],
   "source": [
    "def lc_771(x,y):\n",
    "    \n",
    "    '''\n",
    "    You're given strings jewels representing the types of stones that are jewels, and stones\n",
    "    representing the stones you have. Each character in stones is a type of stone you have. \n",
    "    You want to know how many of the stones you have are also jewels.\n",
    "    Letters are case sensitive, so \"a\" is considered a different type of stone from \"A\".\n",
    "    \n",
    "    EXAMPLE:\n",
    "    Input: jewels = \"aA\", stones = \"aAAbbbb\"\n",
    "    Output: 3\n",
    "    '''\n",
    "    \n",
    "    count =0\n",
    "    for stone in y:\n",
    "        if stone in x:\n",
    "            count+=1\n",
    "    return count"
   ]
  },
  {
   "cell_type": "code",
   "execution_count": 16,
   "id": "8a209388",
   "metadata": {},
   "outputs": [
    {
     "data": {
      "text/plain": [
       "2"
      ]
     },
     "execution_count": 16,
     "metadata": {},
     "output_type": "execute_result"
    }
   ],
   "source": [
    "lc_771('aA','acAbcd')"
   ]
  },
  {
   "cell_type": "markdown",
   "id": "c4ac78ef",
   "metadata": {},
   "source": [
    "# lc_1528"
   ]
  },
  {
   "cell_type": "code",
   "execution_count": 20,
   "id": "244aac76",
   "metadata": {},
   "outputs": [],
   "source": [
    "def lc_1528(s, indices):\n",
    "    \n",
    "    '''\n",
    "    You are given a string s and an integer array indices of the same length.\n",
    "    The string s will be shuffled such that the character at the ith position moves to indices[i] in the shuffled string.\n",
    "    Return the shuffled string.\n",
    "    \n",
    "    EXAMPLE:\n",
    "    Input: s = \"codeleet\", indices = [4,5,6,7,0,2,1,3]\n",
    "    Output: \"leetcode\"\n",
    "    Explanation: As shown, \"codeleet\" becomes \"leetcode\" after shuffling.\n",
    "    '''\n",
    "    n = len(s)\n",
    "    res = [''] * n\n",
    "    for i in range(n):\n",
    "        res[indices[i]] = s[i]\n",
    "        print(res)\n",
    "    return ''.join(res)"
   ]
  },
  {
   "cell_type": "code",
   "execution_count": 21,
   "id": "33829ede",
   "metadata": {},
   "outputs": [
    {
     "name": "stdout",
     "output_type": "stream",
     "text": [
      "['', '', '', '', '', 'c', '', '']\n",
      "['', '', '', '', 'o', 'c', '', '']\n",
      "['', '', '', '', 'o', 'c', 'd', '']\n",
      "['', '', '', '', 'o', 'c', 'd', 'e']\n",
      "['l', '', '', '', 'o', 'c', 'd', 'e']\n",
      "['l', '', 'e', '', 'o', 'c', 'd', 'e']\n",
      "['l', 'e', 'e', '', 'o', 'c', 'd', 'e']\n",
      "['l', 'e', 'e', 't', 'o', 'c', 'd', 'e']\n"
     ]
    },
    {
     "data": {
      "text/plain": [
       "'leetocde'"
      ]
     },
     "execution_count": 21,
     "metadata": {},
     "output_type": "execute_result"
    }
   ],
   "source": [
    "lc_1528('codeleet',[5,4,6,7,0,2,1,3])"
   ]
  },
  {
   "cell_type": "markdown",
   "id": "e20f4f8d",
   "metadata": {},
   "source": [
    "# lc_1119"
   ]
  },
  {
   "cell_type": "code",
   "execution_count": 10,
   "id": "07db25fe",
   "metadata": {},
   "outputs": [],
   "source": [
    "def lc_1119(x,y):\n",
    "    \n",
    "    '''\n",
    "    You are given a string s and an integer array indices of the same length. \n",
    "    The string s will be shuffled such that the character at the ith position moves to indices[i] in the shuffled string.\n",
    "    Return the shuffled string.\n",
    "    Given a string S, remove the vowels 'a', 'e', 'i', 'o', and 'u' from it, and return the new string.\n",
    "    \n",
    "    EXAMPLE:\n",
    "    Input: “leetcodeisacommunityforcoders”\n",
    "    Output: “ltcdscmmntyfrcdrs”\n",
    "    '''\n",
    "    \n",
    "    return ''.join(str(a) for a in x.lower() if a not in y)"
   ]
  },
  {
   "cell_type": "code",
   "execution_count": 11,
   "id": "b3e31a18",
   "metadata": {},
   "outputs": [
    {
     "data": {
      "text/plain": [
       "'ltcdscmmntyfrcdrs'"
      ]
     },
     "execution_count": 11,
     "metadata": {},
     "output_type": "execute_result"
    }
   ],
   "source": [
    "lc_1119('leetcodeisacommunityforcoders',['a','e','i','o','u'])"
   ]
  },
  {
   "cell_type": "markdown",
   "id": "ff73b735",
   "metadata": {},
   "source": [
    "# lc_2367"
   ]
  },
  {
   "cell_type": "code",
   "execution_count": 2,
   "id": "a4e820c3",
   "metadata": {},
   "outputs": [
    {
     "name": "stdout",
     "output_type": "stream",
     "text": [
      "2\n"
     ]
    }
   ],
   "source": [
    "def lc_2367(nums, diff):\n",
    "    \n",
    "    '''\n",
    "    You are given a 0-indexed, strictly increasing integer array nums and a positive integer diff.\n",
    "    A triplet (i, j, k) is an arithmetic triplet if the following conditions are met:\n",
    "    i < j < k,\n",
    "    nums[j] - nums[i] == diff, and\n",
    "    nums[k] - nums[j] == diff.\n",
    "    Return the number of unique arithmetic triplets.\n",
    "    \n",
    "    EXAMPLE:\n",
    "    Input: nums = [0,1,4,6,7,10], diff = 3\n",
    "    Output: 2\n",
    "    Explanation:\n",
    "    (1, 2, 4) is an arithmetic triplet because both 7 - 4 == 3 and 4 - 1 == 3.\n",
    "    (2, 4, 5) is an arithmetic triplet because both 10 - 7 == 3 and 7 - 4 == 3. \n",
    "    '''\n",
    "    \n",
    "    count = 0\n",
    "    x = set(nums)\n",
    "\n",
    "    for i in nums:\n",
    "        if i - diff in x and i + diff in x:\n",
    "            count += 1\n",
    "    return count\n"
   ]
  },
  {
   "cell_type": "code",
   "execution_count": 61,
   "id": "3c8c85fb",
   "metadata": {},
   "outputs": [
    {
     "data": {
      "text/plain": [
       "2"
      ]
     },
     "execution_count": 61,
     "metadata": {},
     "output_type": "execute_result"
    }
   ],
   "source": [
    "lc_2367([0, 1, 4, 6, 7, 10],3)"
   ]
  },
  {
   "cell_type": "markdown",
   "id": "37261d2b",
   "metadata": {},
   "source": [
    "# lc_1480"
   ]
  },
  {
   "cell_type": "code",
   "execution_count": 3,
   "id": "a33a5020",
   "metadata": {},
   "outputs": [],
   "source": [
    "def lc_1480(*nums,a=0):\n",
    "    \n",
    "    '''\n",
    "    Given an array nums. We define a running sum of an array as runningSum[i] = sum(nums[0]…nums[i]).\n",
    "    Return the running sum of nums.\n",
    "    \n",
    "    EXAMPLE:\n",
    "    Input: nums = [1,2,3,4]\n",
    "    Output: [1,3,6,10]\n",
    "    Explanation: Running sum is obtained as follows: [1, 1+2, 1+2+3, 1+2+3+4]\n",
    "    '''\n",
    "    \n",
    "    nums=[1,2,3,4]\n",
    "    res=[]\n",
    "    for i in nums:\n",
    "        a+=i\n",
    "        res.append(a)\n",
    "    return res"
   ]
  },
  {
   "cell_type": "code",
   "execution_count": 4,
   "id": "2262d4f0",
   "metadata": {},
   "outputs": [
    {
     "data": {
      "text/plain": [
       "[1, 3, 6, 10]"
      ]
     },
     "execution_count": 4,
     "metadata": {},
     "output_type": "execute_result"
    }
   ],
   "source": [
    "lc_1480(1,2,3,4)"
   ]
  },
  {
   "cell_type": "markdown",
   "id": "bfb641dd",
   "metadata": {},
   "source": [
    "# lc_2535"
   ]
  },
  {
   "cell_type": "code",
   "execution_count": 65,
   "id": "13214587",
   "metadata": {},
   "outputs": [],
   "source": [
    "def lc_2535(nums,sum_digits=0):\n",
    "    \n",
    "    '''\n",
    "    Given an array nums. We define a running sum of an array as runningSum[i] = sum(nums[0]…nums[i]).\n",
    "    Return the running sum of nums.\n",
    "    \n",
    "    EXAMPLE:\n",
    "    Input: nums = [1,15,6,3]\n",
    "    Output: 9\n",
    "    Explanation: \n",
    "    The element sum of nums is 1 + 15 + 6 + 3 = 25.\n",
    "    The digit sum of nums is 1 + 1 + 5 + 6 + 3 = 16.\n",
    "    The absolute difference between the element sum and digit sum is |25 - 16| = 9\n",
    "    '''\n",
    "\n",
    "    sum_nums=sum(nums)\n",
    "    \n",
    "    for x in nums:\n",
    "        while x>0:\n",
    "            c=x%10\n",
    "            sum_digits+=c\n",
    "            x//=10\n",
    "    c=sum_nums-sum_digits\n",
    "    return c"
   ]
  },
  {
   "cell_type": "code",
   "execution_count": 64,
   "id": "65266b88",
   "metadata": {},
   "outputs": [
    {
     "data": {
      "text/plain": [
       "9"
      ]
     },
     "execution_count": 64,
     "metadata": {},
     "output_type": "execute_result"
    }
   ],
   "source": [
    "lc_2535([1,15,6,3])"
   ]
  },
  {
   "cell_type": "markdown",
   "id": "e823e071",
   "metadata": {},
   "source": [
    "# lc_2037"
   ]
  },
  {
   "cell_type": "code",
   "execution_count": 66,
   "id": "c631296d",
   "metadata": {},
   "outputs": [],
   "source": [
    "def lc_2037(seats,students):\n",
    "    \n",
    "    '''\n",
    "    There are n seats and n students in a room. You are given an array seats of length n, \n",
    "    where seats[i] is the position of the ith seat. You are also given the array students of length n, \n",
    "    where students[j] is the position of the jth student.\n",
    "    You may perform the following move any number of times:\n",
    "    Increase or decrease the position of the ith student by 1 (i.e., moving the ith student from position x to x + 1 or x - 1)\n",
    "    Return the minimum number of moves required to move each student to a seat such that no two students are in the same seat.\n",
    "    Note that there may be multiple seats or students in the same position at the beginning.\n",
    "    \n",
    "    EXAMPLE:\n",
    "    Input: seats = [3,1,5], students = [2,7,4]\n",
    "    Output: 4\n",
    "    Explanation: The students are moved as follows:\n",
    "    - The first student is moved from from position 2 to position 1 using 1 move.\n",
    "    - The second student is moved from from position 7 to position 5 using 2 moves.\n",
    "    - The third student is moved from from position 4 to position 3 using 1 move.\n",
    "    In total, 1 + 2 + 1 = 4 moves were used\n",
    "    '''\n",
    "\n",
    "    seats.sort()\n",
    "    students.sort()\n",
    "    \n",
    "    result=0\n",
    "\n",
    "    for i in range(len(seats)):\n",
    "        result+=abs(seats[i]-students[i])\n",
    "\n",
    "    return result    \n"
   ]
  },
  {
   "cell_type": "code",
   "execution_count": 67,
   "id": "861fba2c",
   "metadata": {},
   "outputs": [
    {
     "data": {
      "text/plain": [
       "4"
      ]
     },
     "execution_count": 67,
     "metadata": {},
     "output_type": "execute_result"
    }
   ],
   "source": [
    "lc_2037([3,1,5],[2,7,4])"
   ]
  },
  {
   "cell_type": "markdown",
   "id": "9901d905",
   "metadata": {},
   "source": [
    "# lc_2656"
   ]
  },
  {
   "cell_type": "code",
   "execution_count": 69,
   "id": "00e53105",
   "metadata": {},
   "outputs": [],
   "source": [
    "def lc_2656(nums,k):\n",
    "    \n",
    "    '''\n",
    "    You are given a 0-indexed integer array nums and an integer k. Your task is to perform the following operation\n",
    "    exactly k times in order to maximize your score:\n",
    "    Select an element m from nums.\n",
    "    Remove the selected element m from the array.\n",
    "    Add a new element with a value of m + 1 to the array.\n",
    "    Increase your score by m.\n",
    "    Return the maximum score you can achieve after performing the operation exactly k times.\n",
    "    \n",
    "    EXAMPLE:\n",
    "    Input: nums = [1,2,3,4,5], k = 3\n",
    "    Output: 18\n",
    "    Explanation: We need to choose exactly 3 elements from nums to maximize the sum.\n",
    "    For the first iteration, we choose 5. Then sum is 5 and nums = [1,2,3,4,6]\n",
    "    For the second iteration, we choose 6. Then sum is 5 + 6 and nums = [1,2,3,4,7]\n",
    "    For the third iteration, we choose 7. Then sum is 5 + 6 + 7 = 18 and nums = [1,2,3,4,8]\n",
    "    So, we will return 18.\n",
    "    It can be proven, that 18 is the maximum answer that we can achieve.\n",
    "    '''\n",
    "    \n",
    "    nums=[3,4,5,1,2]\n",
    "    nums.sort()\n",
    "    lst=[]\n",
    "    for i in range(k):\n",
    "        nex=1\n",
    "        c=nums.pop()\n",
    "        lst.append(c)\n",
    "        nex+=c\n",
    "        nums.append(nex)\n",
    "        nex=0\n",
    "    return sum(lst)\n"
   ]
  },
  {
   "cell_type": "code",
   "execution_count": 70,
   "id": "576b6dc2",
   "metadata": {},
   "outputs": [
    {
     "data": {
      "text/plain": [
       "18"
      ]
     },
     "execution_count": 70,
     "metadata": {},
     "output_type": "execute_result"
    }
   ],
   "source": [
    "lc_2656([3,4,5,1,2],3)"
   ]
  },
  {
   "cell_type": "markdown",
   "id": "c5e5b730",
   "metadata": {},
   "source": [
    "# lc_2455"
   ]
  },
  {
   "cell_type": "code",
   "execution_count": 77,
   "id": "242cf325",
   "metadata": {},
   "outputs": [],
   "source": [
    "def lc_2455(x):\n",
    "    \n",
    "    '''\n",
    "    Given an integer array nums of positive integers, return the average value of all even integers that are divisible by 3.\n",
    "    Note that the average of n elements is the sum of the n elements divided by n and rounded down to the nearest integer.\n",
    "    \n",
    "    EXAMPLE\n",
    "    Input: nums = [1,3,6,10,12,15]\n",
    "    Output: 9\n",
    "    Explanation: 6 and 12 are even numbers that are divisible by 3. (6 + 12) / 2 = 9.\n",
    "    '''\n",
    "    \n",
    "    a =  [i for i in x if i%2==0 and i%3==0]\n",
    "    return sum(a)/len(a)\n"
   ]
  },
  {
   "cell_type": "code",
   "execution_count": 78,
   "id": "c61dd183",
   "metadata": {},
   "outputs": [
    {
     "data": {
      "text/plain": [
       "9.0"
      ]
     },
     "execution_count": 78,
     "metadata": {},
     "output_type": "execute_result"
    }
   ],
   "source": [
    "lc_2455([1,3,6,10,12,15])"
   ]
  },
  {
   "cell_type": "markdown",
   "id": "4e8848fe",
   "metadata": {},
   "source": [
    "# lc_2540"
   ]
  },
  {
   "cell_type": "code",
   "execution_count": 79,
   "id": "e7bea873",
   "metadata": {},
   "outputs": [],
   "source": [
    "def lc_2540(A, B):\n",
    "    \n",
    "    '''\n",
    "    Given two integer arrays nums1 and nums2, sorted in non-decreasing order, return the minimum integer common to both arrays.\n",
    "    If there is no common integer amongst nums1 and nums2, return -1.\n",
    "    Note that an integer is said to be common to nums1 and nums2 if both arrays have at least one occurrence of that integer.\n",
    "    \n",
    "    EXAMPLE:\n",
    "    Input: nums1 = [1,2,3], nums2 = [2,4]\n",
    "    Output: 2\n",
    "    Explanation: The smallest element common to both arrays is 2, so we return 2.\n",
    "    \n",
    "    '''\n",
    "    return min(set(A).intersection(B))\n"
   ]
  },
  {
   "cell_type": "code",
   "execution_count": 80,
   "id": "b4ba8e8e",
   "metadata": {},
   "outputs": [
    {
     "data": {
      "text/plain": [
       "2"
      ]
     },
     "execution_count": 80,
     "metadata": {},
     "output_type": "execute_result"
    }
   ],
   "source": [
    "lc_2540([1,2,3],[2,4])"
   ]
  },
  {
   "cell_type": "markdown",
   "id": "bacf1ed6",
   "metadata": {},
   "source": [
    "# lc_2000"
   ]
  },
  {
   "cell_type": "code",
   "execution_count": 82,
   "id": "ace94e9f",
   "metadata": {},
   "outputs": [],
   "source": [
    "def lc_2000(x,y):\n",
    "    \n",
    "    '''\n",
    "    Given a 0-indexed string word and a character ch, reverse the segment of word that starts at index 0 \n",
    "    and ends at the index of the first occurrence of ch (inclusive). If the character ch does not exist in word, do nothing.\n",
    "    For example, if word = \"abcdefd\" and ch = \"d\", then you should reverse the segment that starts at 0 and ends at 3(inclusive)\n",
    "    The resulting string will be \"dcbaefd\".\n",
    "    Return the resulting string.\n",
    "    \n",
    "    EXAMPLE:\n",
    "    Input: word = \"abcdefd\", ch = \"d\"\n",
    "    Output: \"dcbaefd\"\n",
    "    Explanation: The first occurrence of \"d\" is at index 3. \n",
    "    Reverse the part of word from 0 to 3 (inclusive), the resulting string is \"dcbaefd\".\n",
    "    '''\n",
    "    \n",
    "    if y in x:\n",
    "        z = x.index(y)\n",
    "        return x[:z+1][::-1] + x[z+1:]\n",
    "    return x\n"
   ]
  },
  {
   "cell_type": "code",
   "execution_count": 83,
   "id": "86156413",
   "metadata": {},
   "outputs": [
    {
     "data": {
      "text/plain": [
       "'dcbaefd'"
      ]
     },
     "execution_count": 83,
     "metadata": {},
     "output_type": "execute_result"
    }
   ],
   "source": [
    "lc_2000('abcdefd','d')"
   ]
  },
  {
   "cell_type": "markdown",
   "id": "a446a535",
   "metadata": {},
   "source": [
    "# lc_2243"
   ]
  },
  {
   "cell_type": "code",
   "execution_count": 89,
   "id": "a507ddd2",
   "metadata": {},
   "outputs": [],
   "source": [
    "def fstr(s):\n",
    "    \n",
    "    '''\n",
    "    You are given a string s consisting of digits and an integer k.\n",
    "    A round can be completed if the length of s is greater than k. In one round, do the following:\n",
    "    Divide s into consecutive groups of size k such that the first k characters are in the first group,\n",
    "    the next k characters are in the second group, and so on. Note that the size of the last group can be smaller than k.\n",
    "    Replace each group of s with a string representing the sum of all its digits. \n",
    "    For example, \"346\" is replaced with \"13\" because 3 + 4 + 6 = 13.\n",
    "    Merge consecutive groups together to form a new string. If the length of the string is greater than k, repeat from step 1.\n",
    "    Return s after all rounds have been completed.\n",
    "    \n",
    "    EXAMPLE:\n",
    "    Input: s = \"11111222223\", k = 3\n",
    "    Output: \"135\"\n",
    "    Explanation: \n",
    "    - For the first round, we divide s into groups of size 3: \"111\", \"112\", \"222\", and \"23\".\n",
    "      ​​​​​Then we calculate the digit sum of each group: 1 + 1 + 1 = 3, 1 + 1 + 2 = 4, 2 + 2 + 2 = 6, and 2 + 3 = 5. \n",
    "      So, s becomes \"3\" + \"4\" + \"6\" + \"5\" = \"3465\" after the first round.\n",
    "    - For the second round, we divide s into \"346\" and \"5\".\n",
    "      Then we calculate the digit sum of each group: 3 + 4 + 6 = 13, 5 = 5. \n",
    "      So, s becomes \"13\" + \"5\" = \"135\" after second round. \n",
    "    Now, s.length <= k, so we return \"135\" as the answer.\n",
    "    '''\n",
    "    return sum(int(digit) for digit in s)\n",
    "\n",
    "def lc_2243(s, k):\n",
    "    while len(s) > k:\n",
    "        groups = [s[i:i+k] for i in range(0, len(s), k)]\n",
    "        s = ''.join(str(fstr(group)) for group in groups)\n",
    "    return s\n"
   ]
  },
  {
   "cell_type": "code",
   "execution_count": 90,
   "id": "2709bc43",
   "metadata": {},
   "outputs": [
    {
     "data": {
      "text/plain": [
       "'135'"
      ]
     },
     "execution_count": 90,
     "metadata": {},
     "output_type": "execute_result"
    }
   ],
   "source": [
    "lc_2243(\"11111222223\",3)"
   ]
  },
  {
   "cell_type": "markdown",
   "id": "b1563b45",
   "metadata": {},
   "source": [
    "# lc_1748"
   ]
  },
  {
   "cell_type": "code",
   "execution_count": 92,
   "id": "8226a32d",
   "metadata": {},
   "outputs": [],
   "source": [
    "def lc_1748(nums):\n",
    "    \n",
    "    '''\n",
    "    You are given an integer array nums. The unique elements of an array are the elements that appear exactly once in the array.\n",
    "    Return the sum of all the unique elements of nums.\n",
    "    \n",
    "    EXAMPLE:\n",
    "    Input: nums = [1,2,3,2]\n",
    "    Output: 4\n",
    "    Explanation: The unique elements are [1,3], and the sum is 4.\n",
    "    '''\n",
    "    \n",
    "    x = [i for i in nums if nums.count(i) ==1]\n",
    "    y = sum(x)\n",
    "\n",
    "    return y\n"
   ]
  },
  {
   "cell_type": "code",
   "execution_count": 93,
   "id": "d7463737",
   "metadata": {},
   "outputs": [
    {
     "data": {
      "text/plain": [
       "4"
      ]
     },
     "execution_count": 93,
     "metadata": {},
     "output_type": "execute_result"
    }
   ],
   "source": [
    "lc_1748([1, 2, 3, 2])"
   ]
  },
  {
   "cell_type": "markdown",
   "id": "e06805ac",
   "metadata": {},
   "source": [
    "# lc_1816"
   ]
  },
  {
   "cell_type": "code",
   "execution_count": 95,
   "id": "aed85aca",
   "metadata": {},
   "outputs": [],
   "source": [
    "def lc_1816(s,k):\n",
    "    \n",
    "    '''\n",
    "    A sentence is a list of words that are separated by a single space with no leading or trailing spaces.\n",
    "    Each of the words consists of only uppercase and lowercase English letters (no punctuation).\n",
    "    For example, \"Hello World\", \"HELLO\", and \"hello world hello world\" are all sentences.\n",
    "    You are given a sentence s and an integer k. You want to truncate s such that \n",
    "    it contains only the first k words. Return s after truncating it.\n",
    "    \n",
    "    EXAMPLE:\n",
    "    Input: s = \"Hello how are you Contestant\", k = 4\n",
    "    Output: \"Hello how are you\"\n",
    "    Explanation:\n",
    "    The words in s are [\"Hello\", \"how\" \"are\", \"you\", \"Contestant\"].\n",
    "    The first 4 words are [\"Hello\", \"how\", \"are\", \"you\"].\n",
    "    Hence, you should return \"Hello how are you\".\n",
    "    '''\n",
    "    \n",
    "    a=s.split()\n",
    "\n",
    "    b=[]\n",
    "\n",
    "    for i in range(k):\n",
    "        if len(a)>k:\n",
    "            b.append(a[i])\n",
    "            \n",
    "            e=' '.join(b)\n",
    "        else:\n",
    "            \n",
    "            return s\n",
    "    return e"
   ]
  },
  {
   "cell_type": "code",
   "execution_count": 96,
   "id": "461cc922",
   "metadata": {},
   "outputs": [
    {
     "data": {
      "text/plain": [
       "'chopper is not a tanuki'"
      ]
     },
     "execution_count": 96,
     "metadata": {},
     "output_type": "execute_result"
    }
   ],
   "source": [
    "lc_1816('chopper is not a tanuki',5)"
   ]
  },
  {
   "cell_type": "markdown",
   "id": "d9de3ba8",
   "metadata": {},
   "source": [
    "# lc_2138"
   ]
  },
  {
   "cell_type": "code",
   "execution_count": 98,
   "id": "3202cda9",
   "metadata": {},
   "outputs": [],
   "source": [
    "def lc_2138(string,k):\n",
    "    \n",
    "    '''\n",
    "    A string s can be partitioned into groups of size k using the following procedure:\n",
    "    The first group consists of the first k characters of the string, the second group consists of the next k characters\n",
    "    of the string, and so on. Each character can be a part of exactly one group.\n",
    "    For the last group, if the string does not have k characters remaining, a character fill is used to complete the group.\n",
    "    Note that the partition is done so that after removing the fill character from the last group (if it exists)\n",
    "    and concatenating all the groups in order, the resultant string should be s.\n",
    "    Given the string s, the size of each group k and the character fill, return a string array denoting the composition of \n",
    "    every group s has been divided into, using the above procedure.\n",
    "    \n",
    "    EXAMPLE:\n",
    "    Input: s = \"abcdefghi\", k = 3, fill = \"x\"\n",
    "    Output: [\"abc\",\"def\",\"ghi\"]\n",
    "    Explanation:\n",
    "    The first 3 characters \"abc\" form the first group.\n",
    "    The next 3 characters \"def\" form the second group.\n",
    "    The last 3 characters \"ghi\" form the third group.\n",
    "    Since all groups can be completely filled by characters from the string, we do not need to use fill.\n",
    "    Thus, the groups formed are \"abc\", \"def\", and \"ghi\".\n",
    "    '''\n",
    "    \n",
    "    a=['']\n",
    "    fill='x'\n",
    "    for i in string:\n",
    "        if len(a[-1])<k:\n",
    "            a[-1] += i\n",
    "       \n",
    "        else:\n",
    "            a.append('')\n",
    "            a[-1] +=i\n",
    "       \n",
    "     \n",
    "    \n",
    "    while len(a[-1]) < k:\n",
    "        a[-1] += fill\n",
    "       \n",
    "    return a    \n"
   ]
  },
  {
   "cell_type": "code",
   "execution_count": 99,
   "id": "52a2c09c",
   "metadata": {},
   "outputs": [
    {
     "data": {
      "text/plain": [
       "['abc', 'def', 'ghi', 'jxx']"
      ]
     },
     "execution_count": 99,
     "metadata": {},
     "output_type": "execute_result"
    }
   ],
   "source": [
    "lc_2138(\"abcdefghij\",3)"
   ]
  },
  {
   "cell_type": "markdown",
   "id": "f62ea49a",
   "metadata": {},
   "source": [
    "# lc_1832"
   ]
  },
  {
   "cell_type": "code",
   "execution_count": 102,
   "id": "8a53d3d2",
   "metadata": {},
   "outputs": [],
   "source": [
    "def lc_1832(s):\n",
    "    \n",
    "    '''\n",
    "    A pangram is a sentence where every letter of the English alphabet appears at least once.\n",
    "    Given a string sentence containing only lowercase English letters, return true if sentence is a pangram,\n",
    "    or false otherwise.\n",
    "    \n",
    "    EXAMPLE:\n",
    "    Input: sentence = \"thequickbrownfoxjumpsoverthelazydog\"\n",
    "    Output: true\n",
    "    Explanation: sentence contains at least one of every letter of the English alphabet.\n",
    "    '''\n",
    "    \n",
    "    return set(s.lower()) == set('abcdefghijklmnopqrstuvwxyz')\n"
   ]
  },
  {
   "cell_type": "code",
   "execution_count": 103,
   "id": "73839472",
   "metadata": {},
   "outputs": [
    {
     "data": {
      "text/plain": [
       "True"
      ]
     },
     "execution_count": 103,
     "metadata": {},
     "output_type": "execute_result"
    }
   ],
   "source": [
    "lc_1832(\"thequickbrownfoxjumpsoverthelazydog\")"
   ]
  },
  {
   "cell_type": "markdown",
   "id": "00d725c7",
   "metadata": {},
   "source": [
    "# lc_2544"
   ]
  },
  {
   "cell_type": "code",
   "execution_count": 105,
   "id": "86c083eb",
   "metadata": {},
   "outputs": [],
   "source": [
    "def lc_2544(n):\n",
    "    \n",
    "    '''\n",
    "    You are given a positive integer n. Each digit of n has a sign according to the following rules:\n",
    "    The most significant digit is assigned a positive sign.\n",
    "    Each other digit has an opposite sign to its adjacent digits.\n",
    "    Return the sum of all digits with their corresponding sign.\n",
    "    \n",
    "    EXAMPLE:\n",
    "    Input: n = 521\n",
    "    Output: 4\n",
    "    Explanation: (+5) + (-2) + (+1) = 4.\n",
    "    '''\n",
    "    \n",
    "    sign=1\n",
    "    result=0\n",
    "    for i in str(n):\n",
    "        result+=sign*int(i)\n",
    "        sign*=-1\n",
    "    return result\n"
   ]
  },
  {
   "cell_type": "code",
   "execution_count": 106,
   "id": "ad88e939",
   "metadata": {},
   "outputs": [
    {
     "data": {
      "text/plain": [
       "4"
      ]
     },
     "execution_count": 106,
     "metadata": {},
     "output_type": "execute_result"
    }
   ],
   "source": [
    "lc_2544('521')"
   ]
  },
  {
   "cell_type": "markdown",
   "id": "b45a85f5",
   "metadata": {},
   "source": [
    "# lc_2239"
   ]
  },
  {
   "cell_type": "code",
   "execution_count": 108,
   "id": "307d5452",
   "metadata": {},
   "outputs": [],
   "source": [
    "def lc_2239(nums):\n",
    "    \n",
    "    '''\n",
    "    Given an integer array nums of size n, return the number with the value closest to 0 in nums.\n",
    "    If there are multiple answers, return the number with the largest value.\n",
    "    \n",
    "    EXAMPLE:\n",
    "    Input: nums = [-4,-2,1,4,8]\n",
    "    Output: 1\n",
    "    Explanation:\n",
    "    The distance from -4 to 0 is |-4| = 4.\n",
    "    The distance from -2 to 0 is |-2| = 2.\n",
    "    The distance from 1 to 0 is |1| = 1.\n",
    "    The distance from 4 to 0 is |4| = 4.\n",
    "    The distance from 8 to 0 is |8| = 8.\n",
    "    Thus, the closest number to 0 in the array is 1.\n",
    "    '''\n",
    "    \n",
    "    a=[abs(nums[i]-0) for i in range(len(nums))]\n",
    "    \n",
    "    return min(a)\n"
   ]
  },
  {
   "cell_type": "code",
   "execution_count": 109,
   "id": "dee48981",
   "metadata": {},
   "outputs": [
    {
     "data": {
      "text/plain": [
       "1"
      ]
     },
     "execution_count": 109,
     "metadata": {},
     "output_type": "execute_result"
    }
   ],
   "source": [
    "lc_2239([-4,-2,1,4,8])"
   ]
  },
  {
   "cell_type": "markdown",
   "id": "a8d0f99b",
   "metadata": {},
   "source": [
    "# lc_2427"
   ]
  },
  {
   "cell_type": "code",
   "execution_count": 112,
   "id": "302206d6",
   "metadata": {},
   "outputs": [],
   "source": [
    "def lc_2427(a,b):\n",
    "    \n",
    "    '''\n",
    "    Given two positive integers a and b, return the number of common factors of a and b.\n",
    "    An integer x is a common factor of a and b if x divides both a and b.\n",
    "    \n",
    "    EXAMPLE:\n",
    "    Input: a = 12, b = 6\n",
    "    Output: 4\n",
    "    Explanation: The common factors of 12 and 6 are 1, 2, 3, 6.\n",
    "    '''\n",
    "    \n",
    "    c={i for i in range(1,a+1) if a%i==0}\n",
    "    d={j for j in range(1,b+1) if b%j==0}\n",
    "    \n",
    "    return len(c.intersection(d))"
   ]
  },
  {
   "cell_type": "code",
   "execution_count": 113,
   "id": "3bb7e6a4",
   "metadata": {},
   "outputs": [
    {
     "data": {
      "text/plain": [
       "4"
      ]
     },
     "execution_count": 113,
     "metadata": {},
     "output_type": "execute_result"
    }
   ],
   "source": [
    "lc_2427(6,12)"
   ]
  },
  {
   "cell_type": "markdown",
   "id": "28bcd60a",
   "metadata": {},
   "source": [
    "# lc_2648"
   ]
  },
  {
   "cell_type": "code",
   "execution_count": 115,
   "id": "d987f692",
   "metadata": {},
   "outputs": [],
   "source": [
    "def lc_2648(x):\n",
    "    \n",
    "    '''\n",
    "    Given two positive integers a and b, return the number of common factors of a and b.\n",
    "    An integer x is a common factor of a and b if x divides both a and b.\n",
    "    Input: callCount = 5\n",
    "    Output: 0,1,1,2,3\n",
    "    Explanation:\n",
    "    const gen = fibGenerator();\n",
    "    gen.next().value; // 0\n",
    "    gen.next().value; // 1\n",
    "    gen.next().value; // 1\n",
    "    gen.next().value; // 2\n",
    "    gen.next().value; // 3\n",
    "    '''\n",
    "    \n",
    "    fib_list = []\n",
    "    a, b = 0, 1\n",
    "    for i in range(x):\n",
    "        fib_list.append(a)\n",
    "        a, b = b, a + b\n",
    "    return fib_list\n"
   ]
  },
  {
   "cell_type": "code",
   "execution_count": 116,
   "id": "23f3655b",
   "metadata": {},
   "outputs": [
    {
     "data": {
      "text/plain": [
       "[0, 1, 1, 2, 3, 5, 8, 13, 21, 34]"
      ]
     },
     "execution_count": 116,
     "metadata": {},
     "output_type": "execute_result"
    }
   ],
   "source": [
    "lc_2648(10)"
   ]
  },
  {
   "cell_type": "markdown",
   "id": "983e4d42",
   "metadata": {},
   "source": [
    "# lc_1165"
   ]
  },
  {
   "cell_type": "code",
   "execution_count": 14,
   "id": "7e2b319b",
   "metadata": {},
   "outputs": [],
   "source": [
    "def lc_1165(keyboard,word):\n",
    "        \n",
    "        '''\n",
    "        There is a special keyboard with all keys in a single row.\n",
    "        Given a string keyboard of length 26 indicating the layout of the keyboard (indexed from 0 to 25),\n",
    "        initially your finger is at index 0. To type a character, you have to move your finger to the index of the desired\n",
    "        character. The time taken to move your finger from index i to index j is |i - j|.\n",
    "        You want to type a string word. Write a function to calculate how much time it takes to type it with one finger.\n",
    "        \n",
    "        Example\n",
    "        Input: keyboard = \"abcdefghijklmnopqrstuvwxyz\", word = \"cba\"\n",
    "        Output: 4\n",
    "        Explanation: The index moves from 0 to 2 to write 'c' then to 1 to write 'b' then to 0 again to write 'a'.\n",
    "        Total time = 2 + 1 + 1 = 4.\n",
    "        '''\n",
    "        \n",
    "        x = 0\n",
    "        y = 0\n",
    "        for i in word:\n",
    "            a = keyboard.index(i)\n",
    "            x += abs(a-y)\n",
    "            y = a\n",
    "\n",
    "        return x"
   ]
  },
  {
   "cell_type": "code",
   "execution_count": 15,
   "id": "de351a35",
   "metadata": {},
   "outputs": [
    {
     "data": {
      "text/plain": [
       "4"
      ]
     },
     "execution_count": 15,
     "metadata": {},
     "output_type": "execute_result"
    }
   ],
   "source": [
    "lc_1165(keyboard = \"abcdefghijklmnopqrstuvwxyz\", word = \"cba\")"
   ]
  },
  {
   "cell_type": "markdown",
   "id": "f67bac46",
   "metadata": {},
   "source": [
    "# lc_2255"
   ]
  },
  {
   "cell_type": "code",
   "execution_count": 20,
   "id": "8ee066f9",
   "metadata": {},
   "outputs": [],
   "source": [
    "def lc_2255(words,s):\n",
    "        \n",
    "        '''\n",
    "        You are given a string array words and a string s, where words[i] and s comprise only of lowercase English letters.\n",
    "        Return the number of strings in words that are a prefix of s.\n",
    "        A prefix of a string is a substring that occurs at the beginning of the string. \n",
    "        A substring is a contiguous sequence of characters within a string.\n",
    "\n",
    "        Example\n",
    "        Input: words = [\"a\",\"b\",\"c\",\"ab\",\"bc\",\"abc\"], s = \"abc\"\n",
    "        Output: 3\n",
    "        Explanation:\n",
    "        The strings in words which are a prefix of s = \"abc\" are:\n",
    "        \"a\", \"ab\", and \"abc\".\n",
    "        Thus the number of strings in words which are a prefix of s is 3.\n",
    "        '''\n",
    "   \n",
    "        count=0\n",
    "        for x in words:\n",
    "             if s.startswith(x)==True:\n",
    "                count +=1\n",
    "        print(count)"
   ]
  },
  {
   "cell_type": "code",
   "execution_count": 21,
   "id": "6e2306cb",
   "metadata": {},
   "outputs": [
    {
     "name": "stdout",
     "output_type": "stream",
     "text": [
      "3\n"
     ]
    }
   ],
   "source": [
    "lc_2255(words = [\"a\",\"b\",\"c\",\"ab\",\"bc\",\"abc\"], s = \"abc\")"
   ]
  },
  {
   "cell_type": "markdown",
   "id": "e7979164",
   "metadata": {},
   "source": [
    "# lc_1768"
   ]
  },
  {
   "cell_type": "code",
   "execution_count": 22,
   "id": "b142cb98",
   "metadata": {},
   "outputs": [],
   "source": [
    "def lc_1768(a,b):\n",
    "        \n",
    "        '''\n",
    "        You are given two strings word1 and word2. Merge the strings by adding letters in alternating order,starting with word1.\n",
    "        If a string is longer than the other, append the additional letters onto the end of the merged string.\n",
    "        Return the merged string.\n",
    "        Example\n",
    "        Input: word1 = \"abc\", word2 = \"pqr\"\n",
    "        Output: \"apbqcr\"\n",
    "        Explanation: The merged string will be merged as so:\n",
    "        word1:  a   b   c\n",
    "        word2:    p   q   r\n",
    "        merged: a p b q c r\n",
    "        '''\n",
    "        \n",
    "        i = 0\n",
    "        j = 0\n",
    "        result =''\n",
    "        while i< len(a) and j<len(b):\n",
    "            result +=a[i]+b[j]\n",
    "            i+=1\n",
    "            j+=1\n",
    "        while i< len(a):\n",
    "            result +=a[i]\n",
    "            i += 1\n",
    "        while j< len(b):\n",
    "            result +=b[j]\n",
    "            j += 1\n",
    "\n",
    "        return result"
   ]
  },
  {
   "cell_type": "code",
   "execution_count": 24,
   "id": "1cc2c4da",
   "metadata": {},
   "outputs": [
    {
     "data": {
      "text/plain": [
       "'apbqcr'"
      ]
     },
     "execution_count": 24,
     "metadata": {},
     "output_type": "execute_result"
    }
   ],
   "source": [
    "lc_1768(\"abc\", \"pqr\")"
   ]
  },
  {
   "cell_type": "markdown",
   "id": "2903a907",
   "metadata": {},
   "source": [
    "# lc_2665"
   ]
  },
  {
   "cell_type": "code",
   "execution_count": 26,
   "id": "029ef35b",
   "metadata": {},
   "outputs": [],
   "source": [
    "def counter_increment(a):\n",
    "    a+=1\n",
    "    return a\n",
    "  \n",
    "def counter_reset(b):\n",
    "    return b\n",
    "   \n",
    "def counter_decrement(c):\n",
    "    c-=1\n",
    "    return c  \n",
    "def lc_2665(init,calls):\n",
    "        \n",
    "        '''\n",
    "        Write a function createCounter. It should accept an initial integer init. It should return an object \n",
    "        with three functions.\n",
    "        The three functions are:\n",
    "        increment() increases the current value by 1 and then returns it.\n",
    "        decrement() reduces the current value by 1 and then returns it.\n",
    "        reset() sets the current value to init and then returns it.\n",
    "        \n",
    "        Example\n",
    "        Input: init = 5, calls = [\"increment\",\"reset\",\"decrement\"]\n",
    "        Output: [6,5,4]\n",
    "        Explanation:\n",
    "        const counter = createCounter(5);\n",
    "        counter.increment(); // 6\n",
    "        counter.reset(); // 5\n",
    "        counter.decrement(); // 4\n",
    "        '''\n",
    "        \n",
    "        z=[]\n",
    "        for x in range(len(calls)):\n",
    "            if calls[x]==\"increment\":\n",
    "                z.append(counter_increment(init))\n",
    "            if calls[x]==\"reset\":\n",
    "                z.append(counter_reset(init))\n",
    "            if calls[x]==\"decrement\":\n",
    "                z.append(counter_decrement(init))    \n",
    "        return z"
   ]
  },
  {
   "cell_type": "code",
   "execution_count": 27,
   "id": "bb367cdd",
   "metadata": {},
   "outputs": [
    {
     "data": {
      "text/plain": [
       "[6, 5, 4]"
      ]
     },
     "execution_count": 27,
     "metadata": {},
     "output_type": "execute_result"
    }
   ],
   "source": [
    "lc_2665(init = 5, calls = [\"increment\",\"reset\",\"decrement\"])"
   ]
  },
  {
   "cell_type": "markdown",
   "id": "3fc87672",
   "metadata": {},
   "source": [
    "# lc_1512"
   ]
  },
  {
   "cell_type": "code",
   "execution_count": 117,
   "id": "4aa06b59",
   "metadata": {},
   "outputs": [],
   "source": [
    "def lc_1512(nums):\n",
    "    \n",
    "    '''\n",
    "    Given an array of integers nums, return the number of good pairs.\n",
    "    A pair (i, j) is called good if nums[i] == nums[j] and i < j.\n",
    "\n",
    "    Input: nums = [1,2,3,1,1,3]\n",
    "    Output: 4\n",
    "    Explanation: There are 4 good pairs (0,3), (0,4), (3,4), (2,5) 0-indexed.\n",
    "    '''\n",
    "    \n",
    "    count = 0\n",
    "   \n",
    "    for i in range(len(nums)):\n",
    "        for j in range(i + 1, len(nums)):\n",
    "            if nums[i] == nums[j]:\n",
    "                count += 1\n",
    "\n",
    "    return count\n"
   ]
  },
  {
   "cell_type": "code",
   "execution_count": 118,
   "id": "b2f92e1c",
   "metadata": {},
   "outputs": [
    {
     "data": {
      "text/plain": [
       "4"
      ]
     },
     "execution_count": 118,
     "metadata": {},
     "output_type": "execute_result"
    }
   ],
   "source": [
    "lc_1512([1, 2, 3, 1, 1, 3])"
   ]
  },
  {
   "cell_type": "markdown",
   "id": "76a378b9",
   "metadata": {},
   "source": [
    "# lc_1323"
   ]
  },
  {
   "cell_type": "code",
   "execution_count": 122,
   "id": "a92b122d",
   "metadata": {},
   "outputs": [],
   "source": [
    "def lc_1323(num):\n",
    "        \n",
    "        \n",
    "        '''\n",
    "        You are given a positive integer num consisting only of digits 6 and 9.\n",
    "        Return the maximum number you can get by changing at most one digit (6 becomes 9, and 9 becomes 6).\n",
    "        \n",
    "        Example \n",
    "        Input: num = 9669\n",
    "        Output: 9969\n",
    "        Explanation: \n",
    "        Changing the first digit results in 6669.\n",
    "        Changing the second digit results in 9969.\n",
    "        Changing the third digit results in 9699.\n",
    "        Changing the fourth digit results in 9666.\n",
    "        The maximum number is 9969.\n",
    "        '''\n",
    "        \n",
    "        x = str(num)\n",
    "        for i in range(len(x)):\n",
    "            if x[i] == '6':\n",
    "                y = x[:i] + '9' + x[i+1:]\n",
    "                break\n",
    "        return int(y)\n"
   ]
  },
  {
   "cell_type": "code",
   "execution_count": 121,
   "id": "8c64ec74",
   "metadata": {},
   "outputs": [
    {
     "data": {
      "text/plain": [
       "9969"
      ]
     },
     "execution_count": 121,
     "metadata": {},
     "output_type": "execute_result"
    }
   ],
   "source": [
    "lc_1323(9669)"
   ]
  },
  {
   "cell_type": "markdown",
   "id": "67b45c37",
   "metadata": {},
   "source": [
    "# lc_1431"
   ]
  },
  {
   "cell_type": "code",
   "execution_count": 30,
   "id": "ada13d9a",
   "metadata": {},
   "outputs": [],
   "source": [
    "def lc_1431(candies, extraCandies):\n",
    "        \n",
    "        '''\n",
    "        There are n kids with candies. You are given an integer array candies, where each candies[i] represents \n",
    "        the number of candies the ith kid has, and an integer extraCandies, denoting the number of extra candies that you have.\n",
    "        Return a boolean array result of length n, where result[i] is true if, after giving the ith kid all the extraCandies,\n",
    "        they will have the greatest number of candies among all the kids, or false otherwise.\n",
    "        Note that multiple kids can have the greatest number of candies.\n",
    "\n",
    "        Example 1:\n",
    "        Input: candies = [2,3,5,1,3], extraCandies = 3\n",
    "        Output: [true,true,true,false,true] \n",
    "        Explanation: If you give all extraCandies to:\n",
    "        - Kid 1, they will have 2 + 3 = 5 candies, which is the greatest among the kids.\n",
    "        - Kid 2, they will have 3 + 3 = 6 candies, which is the greatest among the kids.\n",
    "        - Kid 3, they will have 5 + 3 = 8 candies, which is the greatest among the kids.\n",
    "        - Kid 4, they will have 1 + 3 = 4 candies, which is not the greatest among the kids.\n",
    "        - Kid 5, they will have 3 + 3 = 6 candies, which is the greatest among the kids.\n",
    "        '''\n",
    "    \n",
    "        max_candies = max(candies)\n",
    "\n",
    "        result = []\n",
    "\n",
    "        for i in range(len(candies)):\n",
    "\n",
    "            if candies[i] + extraCandies >= max_candies:\n",
    "\n",
    "                result.append(True)\n",
    "            else:\n",
    "                result.append(False)\n",
    "\n",
    "        return result\n"
   ]
  },
  {
   "cell_type": "code",
   "execution_count": 31,
   "id": "b1cbd684",
   "metadata": {},
   "outputs": [
    {
     "data": {
      "text/plain": [
       "[True, True, True, False, True]"
      ]
     },
     "execution_count": 31,
     "metadata": {},
     "output_type": "execute_result"
    }
   ],
   "source": [
    "lc_1431(candies = [2,3,5,1,3], extraCandies = 3)"
   ]
  },
  {
   "cell_type": "markdown",
   "id": "9056a030",
   "metadata": {},
   "source": [
    "# lc_1512"
   ]
  },
  {
   "cell_type": "code",
   "execution_count": 34,
   "id": "07768d9a",
   "metadata": {},
   "outputs": [],
   "source": [
    "def lc_1512(nums):\n",
    "    \n",
    "        '''\n",
    "        Given an array of integers nums, return the number of good pairs.\n",
    "        A pair (i, j) is called good if nums[i] == nums[j] and i < j.\n",
    "\n",
    "        Input: nums = [1,2,3,1,1,3]\n",
    "        Output: 4\n",
    "        Explanation: There are 4 good pairs (0,3), (0,4), (3,4), (2,5) 0-indexed.\n",
    "        '''\n",
    "\n",
    "        count = 0\n",
    "        for i in range(len(nums)):\n",
    "            for j in range(i + 1, len(nums)):\n",
    "                if nums[i] == nums[j]:\n",
    "                    count += 1\n",
    "        return count\n",
    "    "
   ]
  },
  {
   "cell_type": "code",
   "execution_count": 35,
   "id": "f9bc0f32",
   "metadata": {},
   "outputs": [
    {
     "data": {
      "text/plain": [
       "4"
      ]
     },
     "execution_count": 35,
     "metadata": {},
     "output_type": "execute_result"
    }
   ],
   "source": [
    "lc_1512([1,2,3,1,1,3])"
   ]
  },
  {
   "cell_type": "markdown",
   "id": "9f7a1be7",
   "metadata": {},
   "source": [
    "# lc_1221"
   ]
  },
  {
   "cell_type": "code",
   "execution_count": 38,
   "id": "f214a588",
   "metadata": {},
   "outputs": [],
   "source": [
    "def lc_1221(s):\n",
    "    \n",
    "        '''\n",
    "        Balanced strings are those that have an equal quantity of 'L' and 'R' characters.\n",
    "        Given a balanced string s, split it into some number of substrings such that:\n",
    "        Each substring is balanced.\n",
    "        Return the maximum number of balanced strings you can obtain.\n",
    "\n",
    "        Input: s = \"RLRRLLRLRL\"\n",
    "        Output: 4\n",
    "        Explanation: s can be split into \"RL\", \"RRLL\", \"RL\", \"RL\", each substring contains same number of 'L' and 'R'.\n",
    "        '''\n",
    "\n",
    "        count = 0\n",
    "        result = 0\n",
    "\n",
    "        for i in s:\n",
    "            if i == 'R':\n",
    "                count+=1\n",
    "            else:\n",
    "                count-=1\n",
    "            if count==0:\n",
    "                result+=1\n",
    "\n",
    "        return result"
   ]
  },
  {
   "cell_type": "code",
   "execution_count": 41,
   "id": "fc4b4258",
   "metadata": {},
   "outputs": [
    {
     "data": {
      "text/plain": [
       "4"
      ]
     },
     "execution_count": 41,
     "metadata": {},
     "output_type": "execute_result"
    }
   ],
   "source": [
    "lc_1221(\"RLRRLLRLRL\")"
   ]
  },
  {
   "cell_type": "markdown",
   "id": "ddeb9e36",
   "metadata": {},
   "source": [
    "# lc_344"
   ]
  },
  {
   "cell_type": "code",
   "execution_count": 44,
   "id": "22df9c31",
   "metadata": {},
   "outputs": [],
   "source": [
    "def lc_344(s):\n",
    "        \n",
    "        '''\n",
    "        Write a function that reverses a string. The input string is given as an array of characters s.\n",
    "        You must do this by modifying the input array in-place with O(1) extra memory\n",
    "        \n",
    "        EXAMPLE\n",
    "        Input: s = [\"h\",\"e\",\"l\",\"l\",\"o\"]\n",
    "        Output: [\"o\",\"l\",\"l\",\"e\",\"h\"]\n",
    "        Example 2:\n",
    "\n",
    "        Input: s = [\"H\",\"a\",\"n\",\"n\",\"a\",\"h\"]\n",
    "        Output: [\"h\",\"a\",\"n\",\"n\",\"a\",\"H\"]\n",
    "        '''\n",
    "        \n",
    "        return s[::-1]"
   ]
  },
  {
   "cell_type": "code",
   "execution_count": 46,
   "id": "3d3eaae0",
   "metadata": {},
   "outputs": [
    {
     "data": {
      "text/plain": [
       "['o', 'l', 'l', 'e', 'h']"
      ]
     },
     "execution_count": 46,
     "metadata": {},
     "output_type": "execute_result"
    }
   ],
   "source": [
    "lc_344([\"h\",\"e\",\"l\",\"l\",\"o\"])"
   ]
  },
  {
   "cell_type": "markdown",
   "id": "888949c0",
   "metadata": {},
   "source": [
    "# lc_1332"
   ]
  },
  {
   "cell_type": "code",
   "execution_count": 16,
   "id": "4e25d920",
   "metadata": {},
   "outputs": [],
   "source": [
    "def lc_1332(x):\n",
    "        '''\n",
    "        You are given a string s consisting only of letters 'a' and 'b'. In a single step you can \n",
    "        remove one palindromic subsequence from s.\n",
    "        Return the minimum number of steps to make the given string empty.\n",
    "        A string is a subsequence of a given string if it is generated by deleting some \n",
    "        characters of a given string without changing its order. Note that a subsequence \n",
    "        does not necessarily need to be contiguous.\n",
    "        A string is called palindrome if is one that reads the same backward as well as forward.\n",
    "\n",
    "        Example\n",
    "\n",
    "        Input: s = \"ababa\"\n",
    "        Output: 1\n",
    "        Explanation: s is already a palindrome, so its entirety can be removed in a single step.\n",
    "        '''\n",
    "        \n",
    "        if x == '':\n",
    "            return 0\n",
    "        elif x == x[::-1]:\n",
    "            return 1\n",
    "        else:\n",
    "            return 2"
   ]
  },
  {
   "cell_type": "code",
   "execution_count": 17,
   "id": "6bcd4e3f",
   "metadata": {},
   "outputs": [
    {
     "data": {
      "text/plain": [
       "1"
      ]
     },
     "execution_count": 17,
     "metadata": {},
     "output_type": "execute_result"
    }
   ],
   "source": [
    "lc_1332('ababa')"
   ]
  },
  {
   "cell_type": "markdown",
   "id": "37c89427",
   "metadata": {},
   "source": [
    "# lc_1979"
   ]
  },
  {
   "cell_type": "code",
   "execution_count": 123,
   "id": "a4162e97",
   "metadata": {},
   "outputs": [],
   "source": [
    "def lc_1979(nums):\n",
    "    \n",
    "    '''\n",
    "    Given an integer array nums, return the greatest common divisor of the smallest number and largest number in nums.\n",
    "    The greatest common divisor of two numbers is the largest positive integer that evenly divides both numbers.\n",
    "    \n",
    "    EXAMPLE:\n",
    "    Input: nums = [2,5,6,9,10]\n",
    "    Output: 2\n",
    "    Explanation:\n",
    "    The smallest number in nums is 2.\n",
    "    The largest number in nums is 10.\n",
    "    The greatest common divisor of 2 and 10 is 2.\n",
    "    '''\n",
    "    \n",
    "    smallest = min(nums)\n",
    "    largest = max(nums)\n",
    "\n",
    "    while largest % smallest != 0:\n",
    "        largest, smallest = smallest, largest % smallest\n",
    "        \n",
    "    return smallest\n"
   ]
  },
  {
   "cell_type": "code",
   "execution_count": 125,
   "id": "a6178c98",
   "metadata": {},
   "outputs": [
    {
     "data": {
      "text/plain": [
       "2"
      ]
     },
     "execution_count": 125,
     "metadata": {},
     "output_type": "execute_result"
    }
   ],
   "source": [
    "lc_1979([2,5,6,9,10])"
   ]
  },
  {
   "cell_type": "markdown",
   "id": "20bcada3",
   "metadata": {},
   "source": [
    "# lc_2160"
   ]
  },
  {
   "cell_type": "code",
   "execution_count": 127,
   "id": "34d6e8fa",
   "metadata": {},
   "outputs": [],
   "source": [
    "def lc_2160(num):\n",
    "    \n",
    "    '''\n",
    "    You are given a positive integer num consisting of exactly four digits. Split num into two new integers new1 and new2 \n",
    "    by using the digits found in num. Leading zeros are allowed in new1 and new2, and all the digits found in num must be used.\n",
    "    For example, given num = 2932, you have the following digits: two 2's, one 9 and one 3. \n",
    "    Some of the possible pairs [new1, new2] are [22, 93], [23, 92], [223, 9] and [2, 329].\n",
    "    Return the minimum possible sum of new1 and new2.\n",
    "    \n",
    "    EXAMPLE:\n",
    "    Input: num = 2932\n",
    "    Output: 52\n",
    "    Explanation: Some possible pairs [new1, new2] are [29, 23], [223, 9], etc.\n",
    "    The minimum sum can be obtained by the pair [29, 23]: 29 + 23 = 52.\n",
    "    '''\n",
    "    \n",
    "    digits = [int(d) for d in str(num)]\n",
    "    digits.sort()  \n",
    "    new1 = 0\n",
    "    new2 = 0\n",
    "    for i in range(len(digits)):\n",
    "        if i % 2 == 0:\n",
    "            new1 = new1 * 10 + digits[i]\n",
    "        else:\n",
    "            new2 = new2 * 10 + digits[i]\n",
    "    return new1 + new2"
   ]
  },
  {
   "cell_type": "code",
   "execution_count": 128,
   "id": "c68f79f4",
   "metadata": {},
   "outputs": [
    {
     "data": {
      "text/plain": [
       "52"
      ]
     },
     "execution_count": 128,
     "metadata": {},
     "output_type": "execute_result"
    }
   ],
   "source": [
    "lc_2160(2932)"
   ]
  },
  {
   "cell_type": "markdown",
   "id": "863465b2",
   "metadata": {},
   "source": [
    "# lc_1108"
   ]
  },
  {
   "cell_type": "code",
   "execution_count": 130,
   "id": "3607ed84",
   "metadata": {},
   "outputs": [],
   "source": [
    "def lc_1108(I):\n",
    "    \n",
    "    '''\n",
    "    Given a valid (IPv4) IP address, return a defanged version of that IP address.\n",
    "    A defanged IP address replaces every period \".\" with \"[.]\".\n",
    "    \n",
    "    EXAMPLE:\n",
    "    Input: address = \"1.1.1.1\"\n",
    "    Output: \"1[.]1[.]1[.]1\"\n",
    "    '''\n",
    "    \n",
    "    L= I.split('.')\n",
    "\n",
    "    octets = sum([1 for y in range(len(L)) if int(L[y])>=0 and int(L[y])<=255])\n",
    "    if I.count('.') == 3 and octets == 4:\n",
    "        s=I.replace(\".\", \"[.]\")\n",
    "        print(s)\n",
    "    else:\n",
    "        print(\"Please enter a valid IPv4 address\")"
   ]
  },
  {
   "cell_type": "code",
   "execution_count": 129,
   "id": "80faa06f",
   "metadata": {},
   "outputs": [
    {
     "name": "stdout",
     "output_type": "stream",
     "text": [
      "1[.]2[.]3[.]4\n"
     ]
    }
   ],
   "source": [
    "lc_1108('1.2.3.4')"
   ]
  },
  {
   "cell_type": "markdown",
   "id": "9b7275fe",
   "metadata": {},
   "source": [
    "# lc_2667"
   ]
  },
  {
   "cell_type": "code",
   "execution_count": 131,
   "id": "c8612084",
   "metadata": {},
   "outputs": [],
   "source": [
    "def lc_2667(*args, **kwargs):\n",
    "    \n",
    "    '''\n",
    "    Write a function createHelloWorld. It should return a new function that always returns \"Hello World\".\n",
    "    \n",
    "    EXAMPLE:\n",
    "    Input: args = [{},null,42]\n",
    "    Output: \"Hello World\"\n",
    "    Explanation:\n",
    "    const f = createHelloWorld();\n",
    "    f({}, null, 42); // \"Hello World\"\n",
    "    Any arguments could be passed to the function but it should still always return \"Hello World\".\n",
    "    '''\n",
    "    \n",
    "    return 'hello world'\n"
   ]
  },
  {
   "cell_type": "code",
   "execution_count": 133,
   "id": "456e600a",
   "metadata": {},
   "outputs": [
    {
     "data": {
      "text/plain": [
       "'hello world'"
      ]
     },
     "execution_count": 133,
     "metadata": {},
     "output_type": "execute_result"
    }
   ],
   "source": [
    "lc_2667([{},'Assan',42], 'hjsfd')"
   ]
  },
  {
   "cell_type": "markdown",
   "id": "93e5fec6",
   "metadata": {},
   "source": [
    "# lc_2413"
   ]
  },
  {
   "cell_type": "code",
   "execution_count": 134,
   "id": "70e6451f",
   "metadata": {},
   "outputs": [],
   "source": [
    "def lc_2413(x):\n",
    "    '''\n",
    "    Given a positive integer n, return the smallest positive integer that is a multiple of both 2 and n.\n",
    "\n",
    "    EXAMPLE:\n",
    "    Input: n = 5\n",
    "    Output: 10\n",
    "    Explanation: The smallest multiple of both 5 and 2 is 10.\n",
    "    '''\n",
    "    \n",
    "    for i in range (1,10):\n",
    "        if (x*i)%2==0:\n",
    "            print(f'smallest even multiple is : {x*i}')\n",
    "            break"
   ]
  },
  {
   "cell_type": "code",
   "execution_count": 135,
   "id": "cff4491b",
   "metadata": {},
   "outputs": [
    {
     "name": "stdout",
     "output_type": "stream",
     "text": [
      "smallest even multiple is : 10\n"
     ]
    }
   ],
   "source": [
    "lc_2413(5)"
   ]
  },
  {
   "cell_type": "markdown",
   "id": "566caa28",
   "metadata": {},
   "source": [
    "# lc_1486"
   ]
  },
  {
   "cell_type": "code",
   "execution_count": 137,
   "id": "ca2d6fa1",
   "metadata": {},
   "outputs": [],
   "source": [
    "import functools\n",
    "from functools import reduce\n",
    "\n",
    "def lc_1486(n, start):\n",
    "    \n",
    "    '''\n",
    "    You are given an integer n and an integer start.\n",
    "    Define an array nums where nums[i] = start + 2 * i (0-indexed) and n == nums.length.\n",
    "    Return the bitwise XOR of all elements of nums.\n",
    "\n",
    "    EXAMPLE:\n",
    "    Input: n = 5, start = 0\n",
    "    Output: 8\n",
    "    Explanation: Array nums is equal to [0, 2, 4, 6, 8] where (0 ^ 2 ^ 4 ^ 6 ^ 8) = 8.\n",
    "    Where \"^\" corresponds to bitwise XOR operator.\n",
    "    '''\n",
    "    \n",
    "    nums = [start + 2*i for i in range(n)]\n",
    "    print(f'The list of numbers starting with {start} : {nums}')\n",
    "    z = reduce(lambda x, y: x ^ y, nums)  \n",
    "    return z\n",
    "\n"
   ]
  },
  {
   "cell_type": "code",
   "execution_count": 141,
   "id": "ffa782ac",
   "metadata": {},
   "outputs": [
    {
     "name": "stdout",
     "output_type": "stream",
     "text": [
      "The list of numbers starting with 0 : [0, 2, 4, 6, 8]\n"
     ]
    },
    {
     "data": {
      "text/plain": [
       "8"
      ]
     },
     "execution_count": 141,
     "metadata": {},
     "output_type": "execute_result"
    }
   ],
   "source": [
    "lc_1486(5,0)"
   ]
  },
  {
   "cell_type": "markdown",
   "id": "3893f6e8",
   "metadata": {},
   "source": [
    "# lc_1935"
   ]
  },
  {
   "cell_type": "code",
   "execution_count": 57,
   "id": "e18d4a8d",
   "metadata": {},
   "outputs": [],
   "source": [
    "def lc_1935(text,brokenLetters):\n",
    "    \n",
    "    '''\n",
    "    There is a malfunctioning keyboard where some letter keys do not work. All other keys on the keyboard work properly.\n",
    "    Given a string text of words separated by a single space (no leading or trailing spaces) and a \n",
    "    string brokenLetters of all distinct letter keys that are broken, return the number of \n",
    "    words in text you can fully type using this keyboard.\n",
    "\n",
    "    EXAMPLE:\n",
    "    Input: text = \"hello world\", brokenLetters = \"ad\"\n",
    "    Output: 1\n",
    "    Explanation: We cannot type \"world\" because the 'd' key is broken.\n",
    "    '''\n",
    "    \n",
    "    ans = 0\n",
    "        \n",
    "    for i in text.split(\" \"):\n",
    "        for j in i:  \n",
    "            if j in brokenLetters:\n",
    "                ans-=1\n",
    "                break\n",
    "                    \n",
    "        ans = ans+1\n",
    "    \n",
    "    return ans"
   ]
  },
  {
   "cell_type": "code",
   "execution_count": 142,
   "id": "5dbb86be",
   "metadata": {},
   "outputs": [
    {
     "data": {
      "text/plain": [
       "1"
      ]
     },
     "execution_count": 142,
     "metadata": {},
     "output_type": "execute_result"
    }
   ],
   "source": [
    "lc_1935(text = \"hello world\", brokenLetters = \"ad\")"
   ]
  },
  {
   "cell_type": "markdown",
   "id": "6d58c52f",
   "metadata": {},
   "source": [
    "# lc_1929"
   ]
  },
  {
   "cell_type": "code",
   "execution_count": 154,
   "id": "2475b6a4",
   "metadata": {},
   "outputs": [],
   "source": [
    "\n",
    "def lc_1929(nums):\n",
    "    \n",
    "    '''\n",
    "    Given an integer array nums of length n, you want to create an array ans of length 2n \n",
    "    where ans[i] == nums[i] and ans[i + n] == nums[i] for 0 <= i < n (0-indexed).\n",
    "    Specifically, ans is the concatenation of two nums arrays.\n",
    "    Return the array ans.\n",
    "\n",
    "    EXAMPLE:\n",
    "    Input: nums = [1,2,1]\n",
    "    Output: [1,2,1,1,2,1]\n",
    "    Explanation: The array ans is formed as follows:\n",
    "    - ans = [nums[0],nums[1],nums[2],nums[0],nums[1],nums[2]]\n",
    "    - ans = [1,2,1,1,2,1]\n",
    "    '''\n",
    "    \n",
    "    ans=[]\n",
    "    for i in range(2):\n",
    "        for n in nums:\n",
    "            ans.append(n)\n",
    "    return ans\n"
   ]
  },
  {
   "cell_type": "code",
   "execution_count": 155,
   "id": "34aa57d4",
   "metadata": {},
   "outputs": [
    {
     "data": {
      "text/plain": [
       "[1, 2, 1, 1, 2, 1]"
      ]
     },
     "execution_count": 155,
     "metadata": {},
     "output_type": "execute_result"
    }
   ],
   "source": [
    "lc_1929([1,2,1])"
   ]
  },
  {
   "cell_type": "markdown",
   "id": "15e76028",
   "metadata": {},
   "source": [
    "# lc_1470"
   ]
  },
  {
   "cell_type": "code",
   "execution_count": 152,
   "id": "d77cafd2",
   "metadata": {},
   "outputs": [],
   "source": [
    "def lc_1470(nums, n):\n",
    "    \n",
    "    '''\n",
    "    Given the array nums consisting of 2n elements in the form [x1,x2,...,xn,y1,y2,...,yn].\n",
    "    Return the array in the form [x1,y1,x2,y2,...,xn,yn].\n",
    "\n",
    "    EXAMPLE:\n",
    "    Input: nums = [2,5,1,3,4,7], n = 3\n",
    "    Output: [2,3,5,4,1,7] \n",
    "    Explanation: Since x1=2, x2=5, x3=1, y1=3, y2=4, y3=7 then the answer is [2,3,5,4,1,7].\n",
    "    '''\n",
    "    \n",
    "    x = []\n",
    "    for i in range(n):\n",
    "        x.append(nums[i])\n",
    "        x.append(nums[i +n])\n",
    "    return x\n"
   ]
  },
  {
   "cell_type": "code",
   "execution_count": 153,
   "id": "b0d0d2ae",
   "metadata": {},
   "outputs": [
    {
     "data": {
      "text/plain": [
       "[2, 3, 5, 4, 1, 7]"
      ]
     },
     "execution_count": 153,
     "metadata": {},
     "output_type": "execute_result"
    }
   ],
   "source": [
    "lc_1470([2,5,1,3,4,7],3)"
   ]
  },
  {
   "cell_type": "markdown",
   "id": "f952031c",
   "metadata": {},
   "source": [
    "# lc_2011"
   ]
  },
  {
   "cell_type": "code",
   "execution_count": 156,
   "id": "0525371c",
   "metadata": {},
   "outputs": [],
   "source": [
    "def lc_2011(operations):\n",
    "    \n",
    "    '''\n",
    "    There is a programming language with only four operations and one variable X:\n",
    "    ++X and X++ increments the value of the variable X by 1.\n",
    "    --X and X-- decrements the value of the variable X by 1.\n",
    "    Initially, the value of X is 0.\n",
    "    Given an array of strings operations containing a list of operations, return the final value of X \n",
    "    after performing all the operations.\n",
    "\n",
    "    EXAMPLE:\n",
    "    Input: operations = [\"--X\",\"X++\",\"X++\"]\n",
    "    Output: 1\n",
    "    Explanation: The operations are performed as follows:\n",
    "    Initially, X = 0.\n",
    "    --X: X is decremente by 1, X =  0 - 1 = -1.\n",
    "    X++: X is incremented by 1, X = -1 + 1 =  0.\n",
    "    X++: X is incremented by 1, X =  0 + 1 =  1.\n",
    "    '''\n",
    "    \n",
    "    x = 0\n",
    "    \n",
    "    for operation in operations:\n",
    "        if operation == \"++X\" or operation == \"X++\":\n",
    "            x += 1\n",
    "        elif operation == \"--X\" or operation == \"X--\":\n",
    "            x -= 1\n",
    "    \n",
    "    return x\n"
   ]
  },
  {
   "cell_type": "code",
   "execution_count": 158,
   "id": "a1bad669",
   "metadata": {},
   "outputs": [
    {
     "data": {
      "text/plain": [
       "1"
      ]
     },
     "execution_count": 158,
     "metadata": {},
     "output_type": "execute_result"
    }
   ],
   "source": [
    "lc_2011([\"--X\",\"X++\",\"X++\"])"
   ]
  },
  {
   "cell_type": "markdown",
   "id": "035e81d0",
   "metadata": {},
   "source": [
    "# lc_1720"
   ]
  },
  {
   "cell_type": "code",
   "execution_count": 162,
   "id": "5019236b",
   "metadata": {},
   "outputs": [],
   "source": [
    "def lc_1720(encoded, first):\n",
    "    \n",
    "    '''\n",
    "    There is a hidden integer array arr that consists of n non-negative integers.\n",
    "    It was encoded into another integer array encoded of length n - 1, such that encoded[i] = arr[i] XOR arr[i + 1]. \n",
    "    For example, if arr = [1,0,2,1], then encoded = [1,2,3].\n",
    "    You are given the encoded array. You are also given an integer first, that is the first element of arr, i.e. arr[0].\n",
    "    Return the original array arr. It can be proved that the answer exists and is unique.\n",
    "    \n",
    "    EXAMPLE:\n",
    "    Input: encoded = [1,2,3], first = 1\n",
    "    Output: [1,0,2,1]\n",
    "    Explanation: If arr = [1,0,2,1], then first = 1 and encoded = [1 XOR 0, 0 XOR 2, 2 XOR 1] = [1,2,3]\n",
    "    '''\n",
    "   \n",
    "    n = len(encoded) + 1\n",
    "    nlst = [0] * n\n",
    "    nlst[0] = first\n",
    "    for i in range(1, n):\n",
    "        nlst[i] = encoded[i - 1] ^ nlst[i - 1]\n",
    "    return nlst\n"
   ]
  },
  {
   "cell_type": "code",
   "execution_count": 163,
   "id": "3715b7c7",
   "metadata": {},
   "outputs": [
    {
     "data": {
      "text/plain": [
       "[2, 3, 1, 2]"
      ]
     },
     "execution_count": 163,
     "metadata": {},
     "output_type": "execute_result"
    }
   ],
   "source": [
    "lc_1720([1,2,3],2)"
   ]
  },
  {
   "cell_type": "markdown",
   "id": "ffd2fbed",
   "metadata": {},
   "source": [
    "# lc_2235"
   ]
  },
  {
   "cell_type": "code",
   "execution_count": 165,
   "id": "56565197",
   "metadata": {},
   "outputs": [],
   "source": [
    "def lc_2235(num1,num2):\n",
    "    \n",
    "    '''\n",
    "    Given two integers num1 and num2, return the sum of the two integers.\n",
    " \n",
    "    EXAMPLE:\n",
    "    Input: num1 = 12, num2 = 5\n",
    "    Output: 17\n",
    "    Explanation: num1 is 12, num2 is 5, and their sum is 12 + 5 = 17, so 17 is returned.\n",
    "    '''\n",
    "    \n",
    "    return num1+num2\n"
   ]
  },
  {
   "cell_type": "code",
   "execution_count": 166,
   "id": "9630819a",
   "metadata": {},
   "outputs": [
    {
     "data": {
      "text/plain": [
       "17"
      ]
     },
     "execution_count": 166,
     "metadata": {},
     "output_type": "execute_result"
    }
   ],
   "source": [
    "lc_2235(12,5)"
   ]
  },
  {
   "cell_type": "markdown",
   "id": "246c6d7f",
   "metadata": {},
   "source": [
    "# lc_1025"
   ]
  },
  {
   "cell_type": "code",
   "execution_count": 168,
   "id": "52e28b7d",
   "metadata": {},
   "outputs": [],
   "source": [
    "def lc_1025(n):\n",
    "    \n",
    "    '''\n",
    "    Alice and Bob take turns playing a game, with Alice starting first.\n",
    "    Initially, there is a number n on the chalkboard. On each player's turn, that player makes a move consisting of:\n",
    "    Choosing any x with 0 < x < n and n % x == 0.\n",
    "    Replacing the number n on the chalkboard with n - x.\n",
    "    Also, if a player cannot make a move, they lose the game.\n",
    "    Return true if and only if Alice wins the game, assuming both players play optimally.\n",
    "\n",
    "    EXAMPLE:\n",
    "    Input: n = 2\n",
    "    Output: true\n",
    "    Explanation: Alice chooses 1, and Bob has no more moves.\n",
    "    '''\n",
    "\n",
    "    if (n%2==0):\n",
    "        return True\n",
    "    else:\n",
    "        return False\n"
   ]
  },
  {
   "cell_type": "code",
   "execution_count": 170,
   "id": "7dcb11fc",
   "metadata": {},
   "outputs": [
    {
     "data": {
      "text/plain": [
       "True"
      ]
     },
     "execution_count": 170,
     "metadata": {},
     "output_type": "execute_result"
    }
   ],
   "source": [
    "lc_1025(2)"
   ]
  },
  {
   "cell_type": "markdown",
   "id": "ebb3489d",
   "metadata": {},
   "source": [
    "# lc_1021"
   ]
  },
  {
   "cell_type": "code",
   "execution_count": 174,
   "id": "ad071070",
   "metadata": {},
   "outputs": [],
   "source": [
    "def lc_1021(s):\n",
    "    \n",
    "    '''\n",
    "    A valid parentheses string is either empty \"\", \"(\" + A + \")\", or A + B, \n",
    "    where A and B are valid parentheses strings, and + represents string concatenation.\n",
    "    For example, \"\", \"()\", \"(())()\", and \"(()(()))\" are all valid parentheses strings.\n",
    "    A valid parentheses string s is primitive if it is nonempty, and there does not exist a way to split it into s = A + B,\n",
    "    with A and B nonempty valid parentheses strings.\n",
    "    Given a valid parentheses string s, consider its primitive decomposition: s = P1 + P2 + ... + Pk,\n",
    "    where Pi are primitive valid parentheses strings.\n",
    "    Return s after removing the outermost parentheses of every primitive string in the primitive decomposition of s.\n",
    "\n",
    "    EXAMPLE:\n",
    "    Input: s = \"(()())(())\"\n",
    "    Output: \"()()()\"\n",
    "    Explanation: \n",
    "    The input string is \"(()())(())\", with primitive decomposition \"(()())\" + \"(())\".\n",
    "    After removing outer parentheses of each part, this is \"()()\" + \"()\" = \"()()()\".\n",
    "    '''\n",
    "    \n",
    "    result = []\n",
    "    bal = 0\n",
    "\n",
    "    for char in s:\n",
    "        if char == '(':\n",
    "            if bal > 0:\n",
    "                result.append(char)\n",
    "            bal += 1\n",
    "        elif char == ')':\n",
    "            bal -= 1\n",
    "            if bal > 0:\n",
    "                result.append(char)\n",
    "\n",
    "    return ''.join(result)\n"
   ]
  },
  {
   "cell_type": "code",
   "execution_count": 175,
   "id": "b4d9b583",
   "metadata": {},
   "outputs": [
    {
     "data": {
      "text/plain": [
       "'()()()'"
      ]
     },
     "execution_count": 175,
     "metadata": {},
     "output_type": "execute_result"
    }
   ],
   "source": [
    "lc_1021( \"(()())(())\")"
   ]
  },
  {
   "cell_type": "code",
   "execution_count": null,
   "id": "883a86b2",
   "metadata": {},
   "outputs": [],
   "source": []
  }
 ],
 "metadata": {
  "kernelspec": {
   "display_name": "Python 3 (ipykernel)",
   "language": "python",
   "name": "python3"
  },
  "language_info": {
   "codemirror_mode": {
    "name": "ipython",
    "version": 3
   },
   "file_extension": ".py",
   "mimetype": "text/x-python",
   "name": "python",
   "nbconvert_exporter": "python",
   "pygments_lexer": "ipython3",
   "version": "3.10.9"
  }
 },
 "nbformat": 4,
 "nbformat_minor": 5
}
